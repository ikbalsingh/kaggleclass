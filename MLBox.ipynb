{
 "cells": [
  {
   "cell_type": "code",
   "execution_count": 41,
   "metadata": {
    "collapsed": true
   },
   "outputs": [],
   "source": [
    "from mlbox.preprocessing import *\n",
    "from mlbox.optimisation import *\n",
    "import numpy as np"
   ]
  },
  {
   "cell_type": "code",
   "execution_count": 42,
   "metadata": {},
   "outputs": [],
   "source": [
    "s=\",\"\n",
    "r=Reader(s)   #initialising the object of Reader Class"
   ]
  },
  {
   "cell_type": "code",
   "execution_count": 43,
   "metadata": {},
   "outputs": [
    {
     "name": "stdout",
     "output_type": "stream",
     "text": [
      "\n",
      "reading csv : train (1).csv ...\n",
      "cleaning data ...\n",
      "CPU time: 0.4376845359802246 seconds\n",
      "\n",
      "reading csv : test (1).csv ...\n",
      "cleaning data ...\n",
      "CPU time: 0.42467594146728516 seconds\n",
      "\n",
      "> Number of common features : 11\n",
      "\n",
      "gathering and crunching for train and test datasets ...\n",
      "reindexing for train and test datasets ...\n",
      "dropping training duplicates ...\n",
      "dropping constant variables on training set ...\n",
      "\n",
      "> Number of categorical features: 5\n",
      "> Number of numerical features: 6\n",
      "> Number of training samples : 891\n",
      "> Number of test samples : 418\n",
      "\n",
      "> Top sparse features (% missing values on train set):\n",
      "Cabin       77.1\n",
      "Age         19.9\n",
      "Embarked     0.2\n",
      "dtype: float64\n",
      "\n",
      "> Task : classification\n",
      "0.0    549\n",
      "1.0    342\n",
      "Name: Survived, dtype: int64\n",
      "\n",
      "encoding target ...\n"
     ]
    }
   ],
   "source": [
    "path=[\"Desktop/train (1).csv\",\"Desktop/test (1).csv\"]\n",
    "target_name=\"Survived\"\n",
    "data=r.train_test_split(path,target_name)"
   ]
  },
  {
   "cell_type": "code",
   "execution_count": 44,
   "metadata": {
    "scrolled": false
   },
   "outputs": [
    {
     "name": "stdout",
     "output_type": "stream",
     "text": [
      "\n",
      "computing drifts ...\n",
      "CPU time: 0.3723115921020508 seconds\n",
      "\n",
      "> Top 10 drifts\n",
      "\n",
      "('PassengerId', 1.0)\n",
      "('Name', 0.99185208230523303)\n",
      "('Ticket', 0.68610638128091361)\n",
      "('Cabin', 0.1649747120495717)\n",
      "('Embarked', 0.07188149631764329)\n",
      "('Fare', 0.034290480067251217)\n",
      "('SibSp', 0.030969343709039254)\n",
      "('Parch', 0.027738672133688524)\n",
      "('Pclass', 0.026295514754860472)\n",
      "('Sex', 0.014844577766323752)\n",
      "\n",
      "> Deleted variables : ['Name', 'PassengerId', 'Ticket']\n",
      "> Drift coefficients dumped into directory : save\n"
     ]
    }
   ],
   "source": [
    "dft=Drift_thresholder()\n",
    "data=dft.fit_transform(data)"
   ]
  },
  {
   "cell_type": "code",
   "execution_count": 47,
   "metadata": {
    "scrolled": false
   },
   "outputs": [
    {
     "name": "stdout",
     "output_type": "stream",
     "text": [
      "\n",
      "##################################################### testing hyper-parameters... #####################################################\n",
      "\n",
      ">>> NA ENCODER :{'categorical_strategy': '<NULL>', 'numerical_strategy': 'mean'}\n",
      "\n",
      ">>> CA ENCODER :{'strategy': 'random_projection'}\n",
      "\n",
      ">>> FEATURE SELECTOR :{'strategy': 'variance', 'threshold': 0.2}\n",
      "\n",
      ">>> ESTIMATOR :{'reg_lambda': 1, 'objective': 'binary:logistic', 'n_estimators': 500, 'colsample_bytree': 0.8, 'nthread': -1, 'max_delta_step': 0, 'strategy': 'XGBoost', 'seed': 0, 'missing': None, 'learning_rate': 0.05, 'base_score': 0.5, 'reg_alpha': 0, 'colsample_bylevel': 1.0, 'subsample': 0.7994841852997239, 'max_depth': 5, 'min_child_weight': 1, 'gamma': 0, 'scale_pos_weight': 1, 'silent': True}\n",
      "\n",
      "\n",
      "MEAN SCORE : accuracy = 0.698113190819\n",
      "VARIANCE : 0.0243544307977 (fold 1 = 0.720670391061, fold 2 = 0.664804469274, fold 3 = 0.674157303371, fold 4 = 0.724719101124, fold 5 = 0.706214689266)\n",
      "CPU time: 2.529618978500366 seconds\n",
      "\n",
      "\n",
      "##################################################### testing hyper-parameters... #####################################################\n",
      "\n",
      ">>> NA ENCODER :{'categorical_strategy': '<NULL>', 'numerical_strategy': 'mean'}\n",
      "\n",
      ">>> CA ENCODER :{'strategy': 'entity_embedding'}\n",
      "\n",
      ">>> FEATURE SELECTOR :{'strategy': 'rf_feature_importance', 'threshold': 0.2}\n",
      "\n",
      ">>> ESTIMATOR :{'reg_lambda': 1, 'objective': 'binary:logistic', 'n_estimators': 500, 'colsample_bytree': 0.8, 'nthread': -1, 'max_delta_step': 0, 'strategy': 'XGBoost', 'seed': 0, 'missing': None, 'learning_rate': 0.05, 'base_score': 0.5, 'reg_alpha': 0, 'colsample_bylevel': 1.0, 'subsample': 0.6762492615421322, 'max_depth': 5, 'min_child_weight': 1, 'gamma': 0, 'scale_pos_weight': 1, 'silent': True}\n",
      "\n",
      "\n",
      "MEAN SCORE : accuracy = 0.821578509299\n",
      "VARIANCE : 0.0196326750771 (fold 1 = 0.821229050279, fold 2 = 0.810055865922, fold 3 = 0.792134831461, fold 4 = 0.848314606742, fold 5 = 0.83615819209)\n",
      "CPU time: 69.24734568595886 seconds\n",
      "\n",
      "\n",
      "##################################################### testing hyper-parameters... #####################################################\n",
      "\n",
      ">>> NA ENCODER :{'categorical_strategy': '<NULL>', 'numerical_strategy': 0}\n",
      "\n",
      ">>> CA ENCODER :{'strategy': 'entity_embedding'}\n",
      "\n",
      ">>> FEATURE SELECTOR :{'strategy': 'rf_feature_importance', 'threshold': 0.2}\n",
      "\n",
      ">>> ESTIMATOR :{'reg_lambda': 1, 'objective': 'binary:logistic', 'n_estimators': 500, 'colsample_bytree': 0.8, 'nthread': -1, 'max_delta_step': 0, 'strategy': 'XGBoost', 'seed': 0, 'missing': None, 'learning_rate': 0.05, 'base_score': 0.5, 'reg_alpha': 0, 'colsample_bylevel': 1.0, 'subsample': 0.7334358236455665, 'max_depth': 6, 'min_child_weight': 1, 'gamma': 0, 'scale_pos_weight': 1, 'silent': True}\n",
      "\n",
      "\n",
      "MEAN SCORE : accuracy = 0.813712986123\n",
      "VARIANCE : 0.0126583861328 (fold 1 = 0.804469273743, fold 2 = 0.798882681564, fold 3 = 0.825842696629, fold 4 = 0.831460674157, fold 5 = 0.80790960452)\n",
      "CPU time: 19.55109977722168 seconds\n",
      "\n",
      "\n",
      "##################################################### testing hyper-parameters... #####################################################\n",
      "\n",
      ">>> NA ENCODER :{'categorical_strategy': '<NULL>', 'numerical_strategy': 'mean'}\n",
      "\n",
      ">>> CA ENCODER :{'strategy': 'label_encoding'}\n",
      "\n",
      ">>> FEATURE SELECTOR :{'strategy': 'variance', 'threshold': 0.2}\n",
      "\n",
      ">>> ESTIMATOR :{'reg_lambda': 1, 'objective': 'binary:logistic', 'n_estimators': 500, 'colsample_bytree': 0.8, 'nthread': -1, 'max_delta_step': 0, 'strategy': 'XGBoost', 'seed': 0, 'missing': None, 'learning_rate': 0.05, 'base_score': 0.5, 'reg_alpha': 0, 'colsample_bylevel': 1.0, 'subsample': 0.6560491586384057, 'max_depth': 6, 'min_child_weight': 1, 'gamma': 0, 'scale_pos_weight': 1, 'silent': True}\n",
      "\n",
      "\n",
      "MEAN SCORE : accuracy = 0.698113190819\n",
      "VARIANCE : 0.0219267474939 (fold 1 = 0.715083798883, fold 2 = 0.670391061453, fold 3 = 0.674157303371, fold 4 = 0.724719101124, fold 5 = 0.706214689266)\n",
      "CPU time: 1.2268385887145996 seconds\n",
      "\n",
      "\n",
      "##################################################### testing hyper-parameters... #####################################################\n",
      "\n",
      ">>> NA ENCODER :{'categorical_strategy': '<NULL>', 'numerical_strategy': 'mean'}\n",
      "\n",
      ">>> CA ENCODER :{'strategy': 'label_encoding'}\n",
      "\n",
      ">>> FEATURE SELECTOR :{'strategy': 'variance', 'threshold': 0.2}\n",
      "\n",
      ">>> ESTIMATOR :{'reg_lambda': 1, 'objective': 'binary:logistic', 'n_estimators': 500, 'colsample_bytree': 0.8, 'nthread': -1, 'max_delta_step': 0, 'strategy': 'XGBoost', 'seed': 0, 'missing': None, 'learning_rate': 0.05, 'base_score': 0.5, 'reg_alpha': 0, 'colsample_bylevel': 1.0, 'subsample': 0.6836489775589161, 'max_depth': 6, 'min_child_weight': 1, 'gamma': 0, 'scale_pos_weight': 1, 'silent': True}\n",
      "\n",
      "\n",
      "MEAN SCORE : accuracy = 0.698132022029\n",
      "VARIANCE : 0.0311435386594 (fold 1 = 0.720670391061, fold 2 = 0.648044692737, fold 3 = 0.679775280899, fold 4 = 0.73595505618, fold 5 = 0.706214689266)\n",
      "CPU time: 1.6528468132019043 seconds\n",
      "\n",
      "\n",
      "\n",
      "~~~~~~~~~~~~~~~~~~~~~~~~~~~~~~~~~~~~~~~~~~~~~~~~~~~~~~~~~~~~~~~~~~~~~~~~~~~~~~~~~~~~~~~~~~~~~~~~~~~~~~~~~~~~~~~~~~~~~~~~~~~~~~~~~~~~~~~~~\n",
      "~~~~~~~~~~~~~~~~~~~~~~~~~~~~~~~~~~~~~~~~~~~~~~~~~~~~~~~~~ BEST HYPER-PARAMETERS ~~~~~~~~~~~~~~~~~~~~~~~~~~~~~~~~~~~~~~~~~~~~~~~~~~~~~~~~~\n",
      "~~~~~~~~~~~~~~~~~~~~~~~~~~~~~~~~~~~~~~~~~~~~~~~~~~~~~~~~~~~~~~~~~~~~~~~~~~~~~~~~~~~~~~~~~~~~~~~~~~~~~~~~~~~~~~~~~~~~~~~~~~~~~~~~~~~~~~~~~\n",
      "\n",
      "{'est__max_depth': 5, 'ce__strategy': 'entity_embedding', 'ne__numerical_strategy': 'mean', 'est__subsample': 0.6762492615421322, 'est__strategy': 'XGBoost', 'fs__threshold': 0.2, 'fs__strategy': 'rf_feature_importance'}\n"
     ]
    }
   ],
   "source": [
    "space = {\n",
    "\n",
    "        'ne__numerical_strategy' : {\"space\" : [0, 'mean']},\n",
    "\n",
    "        'ce__strategy' : {\"space\" : [\"label_encoding\", \"random_projection\", \"entity_embedding\"]},\n",
    "\n",
    "        'fs__strategy' : {\"space\" : [\"variance\", \"rf_feature_importance\"]},\n",
    "        'fs__threshold': {\"search\" : \"choice\", \"space\" : [0.1, 0.2, 0.3]},\n",
    "\n",
    "        'est__strategy' : {\"space\" : [\"XGBoost\"]},\n",
    "        'est__max_depth' : {\"search\" : \"choice\", \"space\" : [5,6]},\n",
    "        'est__subsample' : {\"search\" : \"uniform\", \"space\" : [0.6,0.9]}\n",
    "\n",
    "        }\n",
    "\n",
    "best = opt.optimise(space, data, max_evals = 5)\n",
    "\n"
   ]
  },
  {
   "cell_type": "code",
   "execution_count": 48,
   "metadata": {},
   "outputs": [
    {
     "name": "stdout",
     "output_type": "stream",
     "text": [
      "\n",
      "fitting the pipeline ...\n",
      "CPU time: 3.5851974487304688 seconds\n"
     ]
    },
    {
     "data": {
      "image/png": "[encoded data removed]",
      "text/plain": [
       "<matplotlib.figure.Figure at 0x7fefb2245940>"
      ]
     },
     "metadata": {},
     "output_type": "display_data"
    },
    {
     "name": "stdout",
     "output_type": "stream",
     "text": [
      "\n",
      "> Feature importances dumped into directory : save\n",
      "\n",
      "predicting ...\n",
      "CPU time: 0.05717110633850098 seconds\n",
      "\n",
      "> Overview on predictions : \n",
      "\n",
      "        0.0       1.0  Survived_predicted\n",
      "0  0.960412  0.039588                   0\n",
      "1  0.947843  0.052157                   0\n",
      "2  0.689267  0.310733                   0\n",
      "3  0.502915  0.497085                   0\n",
      "4  0.689871  0.310129                   0\n",
      "5  0.923558  0.076442                   0\n",
      "6  0.877651  0.122349                   0\n",
      "7  0.981097  0.018903                   0\n",
      "8  0.071094  0.928906                   1\n",
      "9  0.976368  0.023632                   0\n",
      "\n",
      "dumping predictions into directory : save ...\n"
     ]
    },
    {
     "data": {
      "text/plain": [
       "<mlbox.prediction.predictor.Predictor at 0x7fefc8b92278>"
      ]
     },
     "execution_count": 48,
     "metadata": {},
     "output_type": "execute_result"
    }
   ],
   "source": [
    "from mlbox.prediction import *\n",
    "pred=Predictor()\n",
    "pred.fit_predict(best,data)\n"
   ]
  },
  {
   "cell_type": "code",
   "execution_count": 55,
   "metadata": {
    "scrolled": false
   },
   "outputs": [],
   "source": [
    "submit = pd.read_csv(\"Desktop/gender_submission (1).csv\",sep=',')\n",
    "preds = pd.read_csv(\"save/\"+target_name+\"_predictions.csv\")\n",
    "\n",
    "submit[target_name] =  preds[target_name+\"_predicted\"].values\n",
    "\n",
    "submit.to_csv(\"mlbox.csv\", index=False)"
   ]
  }
 ],
 "metadata": {
  "kernelspec": {
   "display_name": "Python 3",
   "language": "python",
   "name": "python3"
  },
  "language_info": {
   "codemirror_mode": {
    "name": "ipython",
    "version": 3
   },
   "file_extension": ".py",
   "mimetype": "text/x-python",
   "name": "python",
   "nbconvert_exporter": "python",
   "pygments_lexer": "ipython3",
   "version": "3.5.2"
  }
 },
 "nbformat": 4,
 "nbformat_minor": 2
}
